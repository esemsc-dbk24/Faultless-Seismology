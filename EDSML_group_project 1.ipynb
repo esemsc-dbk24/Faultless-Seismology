{
 "cells": [
  {
   "cell_type": "markdown",
   "id": "1d8d6123",
   "metadata": {},
   "source": [
    "## EDSML group project\n",
    "\n",
    "## Seismic imaging revision assignment\n"
   ]
  },
  {
   "cell_type": "markdown",
   "id": "b65835b9",
   "metadata": {},
   "source": [
    "### Assignment set: 10 am 16th Jan\n",
    "### Assignment to be submitted: 12 noon 17th Jan\n"
   ]
  },
  {
   "cell_type": "markdown",
   "id": "49022e64",
   "metadata": {},
   "source": [
    "### **Format**: written answers to questions in a Jupyter notebook (please also include figures from the lecture notes or other referenced sources), coding to view seismic and calculate attributes"
   ]
  },
  {
   "cell_type": "markdown",
   "id": "8eadc386",
   "metadata": {},
   "source": [
    "The purpose of this exercise is to provide you with a structured way to consolidate your understanding of seismic imaging. We have been through a lot of content quickly in 2.5 days and this exercise offers you an opportunity to think more deeply about these concepts to help you prepare for the assessed quiz next week (on Fri 24th Jan). You could rush through the activity quickly in a couple of hours just copying and pasting from the notes- but I encourage you to use this time to really make sure you understand things. Talk things through with your group as well as the GTAs who will host drop-in sessions. I will provide you with feedback on your submissions by Tuesday 21st Jan, to help you prepare for the assessed quiz. At the bottom of this notebook you will find three example questions to show you the format of the assessed quiz. Please answer these questions and you will receive feedback on these too.\n",
    "\n",
    "#### Submission process:\n",
    "\n",
    "As part of your group project, it's crucial that we maintain an organized and efficient submission process. To ensure this, please adhere to the following guidelines:\n",
    "\n",
    "- One Submission Per Group: Each group is required to submit only one answer. It's important that you collaborate and consolidate your work within your group to finalize a single, representative notebook.\n",
    "\n",
    "- Please include your group name and your answers in the email, cc-ing all members of the group and send it to:\n",
    "\n",
    "rebecca.bell@imperial.ac.uk\n",
    "\n",
    "psalah@imperial.ac.uk\n",
    "\n",
    "- Feedback Process: After the submission deadline, Becky will review the submitted notebooks and provide feedback by email. It's essential to submit by the deadline to receive timely feedback.\n",
    "\n",
    "\n",
    "\n",
    "#### Ancillary files\n",
    "\n",
    "If your code or answers depend on additional files, such as images, photos, or small data files, then make sure to include these in your submission as well. There is no need to include the Thebe_small2 segy file. Please ensure you run all cells before submission."
   ]
  },
  {
   "cell_type": "markdown",
   "id": "d5d8e13a",
   "metadata": {},
   "source": [
    "## -Premise-"
   ]
  },
  {
   "cell_type": "markdown",
   "id": "0bf59db7",
   "metadata": {},
   "source": [
    "You work for a company who have collected a 3D seismic reflection dataset in two-way travel time, using an airgun source in an area where companies are interested in exploring for geothermal energy production. You have a potential buyer for the seismic data but they have a few questions and would like to learn more about how they can use Python to view and work with the data and they want to see some data examples and understand the future potential.\n",
    "\n",
    "Please address their questions in the notebook below. I have provided some guidance on how much detail should be in these responses in terms of a max word limit (this is a maximum NOT a target. You can answer these questions well with far fewer words). The questions specify whether I am expecting text and figures, code or both text and code to answer the question.\n",
    "\n",
    "Feel free to recycle code from exercise 3 and 4 (making sure you understand it!) and you can also explore additional libraries if you so wish (but not required). \n",
    "\n",
    "**The exercise will require you to load SEG-Y file Thebe_small2 which you can find in the 'data' folder here**- https://imperiallondon-my.sharepoint.com/personal/psalah_ic_ac_uk/_layouts/15/onedrive.aspx?id=%2Fpersonal%2Fpsalah%5Fic%5Fac%5Fuk%2FDocuments%2Fdata%2DBecky%2Dexercises&ga=1  "
   ]
  },
  {
   "cell_type": "markdown",
   "id": "bda0bfc0",
   "metadata": {},
   "source": [
    "### Name of your company (be inventive!):"
   ]
  },
  {
   "cell_type": "code",
   "execution_count": null,
   "id": "167a0971",
   "metadata": {},
   "outputs": [],
   "source": [
    "Faultless Seismology"
   ]
  },
  {
   "cell_type": "markdown",
   "id": "aef0cc6c",
   "metadata": {},
   "source": [
    "### Team members names and email addresses:"
   ]
  },
  {
   "cell_type": "markdown",
   "id": "7b024068-5848-48aa-aacf-6d4343a56cbd",
   "metadata": {},
   "source": [
    "Davide Baino, Ken Komoto, Sam Franks, Daniel Kaupa, Phileas Grenade, Jeffrey Jin"
   ]
  },
  {
   "cell_type": "markdown",
   "id": "7e19c801",
   "metadata": {},
   "source": [
    "**Question 1**: Thank you for approaching us with your 3D seismic dataset. Could you explain to us briefly, using any figures you wish, what seismic reflection data is and why it might be useful for our company finding sites for geothermal energy production? (text,figures)(max. 300 words)"
   ]
  },
  {
   "cell_type": "markdown",
   "id": "c5aea386-c335-49e0-9c44-56c3c896a5b6",
   "metadata": {},
   "source": [
    "Seismic reflection data at its simplest form  is a view into the topography of the Eart below the surface, including different materials with varied level of density. Seismic reflection data is useful because by identyfying soundwaves and their reflection, we can map the subsurface of Earth. \n",
    "\n",
    "When discussing the benefits of mapping seismic reflection data, we could say how this type of data solves the challenges of drilling. By creating a source (either in land or at sea) and a receiver, we can map a few layers without having to drill though it. \n",
    "\n",
    "Key variables in measuring seismic data are time or distance and reflection. Time, normally in microseconds, is measured between the sound emission (the source) and the receiver. When this happens, the first wave is the direct one and the later ones comes from a relfection with a geological boundary. The reflection coefficient determines how much of the seismic waves will be reflected vs how much it will pass through (transmitted deeper into Earth). \n"
   ]
  },
  {
   "cell_type": "markdown",
   "id": "3c44e3e9",
   "metadata": {},
   "source": [
    "**Question 2**: How does an airgun source differ to a sparker source? We are interested in imaging under the seabed to depths of >1 km, ideally down to 5 km. Would airgun or sparker data be better for us? Are there any environmental impacts of these methods and how are they mitigated? (text,figures) (max. 300 words)"
   ]
  },
  {
   "cell_type": "code",
   "execution_count": null,
   "id": "38c4e323",
   "metadata": {},
   "outputs": [],
   "source": []
  },
  {
   "cell_type": "markdown",
   "id": "c1e7615a",
   "metadata": {},
   "source": [
    "**Question 3**: Could you explain to us what is the SEGY data format and provide us with a commented demonstration of how we can load SEGY data in Python? What are the key issues associated with loading SEGY data in Python? What are the benefits of using Python over other software? (text, code, figures) (max. 300 words)\n"
   ]
  },
  {
   "cell_type": "code",
   "execution_count": null,
   "id": "d3373324",
   "metadata": {},
   "outputs": [],
   "source": []
  },
  {
   "cell_type": "markdown",
   "id": "790b26a8",
   "metadata": {},
   "source": [
    "**Question 4**: Please could you present to us some examples of the data from inline 1650 and xline 1600 and time slice 1800 ms. Can you describe what the data looks like (e.g. do you see high/low amplitude reflections? Are the reflections continuous or chaotic?) and identify one obvious geological feature that you can see in xline 1600? (text, code,figures) (max. 300 words)"
   ]
  },
  {
   "cell_type": "code",
   "execution_count": null,
   "id": "9511838a",
   "metadata": {},
   "outputs": [],
   "source": []
  },
  {
   "cell_type": "markdown",
   "id": "35ecee13",
   "metadata": {},
   "source": [
    "**Question 5**: What seismic attributes could you use to better highlight the geological feature you identified in Question 4? We would like to learn how these attributes work. Please calculate two seismic attributes of your choice to help better image this geological feature for time slice 1800 ms- which seismic attribute do you think works the best and why? (text, code,figures) (max. 300 words)"
   ]
  },
  {
   "cell_type": "code",
   "execution_count": null,
   "id": "42cccd27",
   "metadata": {},
   "outputs": [],
   "source": []
  },
  {
   "cell_type": "markdown",
   "id": "0efb6e90",
   "metadata": {},
   "source": [
    "**Question 6**: Is there anything else you would like to show us/tell us to convince us that seismic data is the right dataset for us? In your view, how might the way we interpret seismic data change in the future?  (text,figures)(max 300 words)"
   ]
  },
  {
   "cell_type": "code",
   "execution_count": null,
   "id": "cf80fde0",
   "metadata": {},
   "outputs": [],
   "source": []
  },
  {
   "cell_type": "markdown",
   "id": "f14754aa",
   "metadata": {},
   "source": [
    "--------------"
   ]
  },
  {
   "cell_type": "markdown",
   "id": "f725478d",
   "metadata": {},
   "source": [
    "### Below you can find three examples of the question format that will be used for the assessed quiz on 24th Feb. Please answer these questions as a team and I will give you feedback."
   ]
  },
  {
   "cell_type": "markdown",
   "id": "8cfd5c27",
   "metadata": {},
   "source": [
    "### 1)\tWhich of the following seismic sources would be the best to explore for unexploded ordnance a few meters below the seabed in shallow water:\n",
    "\n",
    "#### a)\tAirguns\n",
    "#### b)\tVibroseis\n",
    "#### c)\tDynamite\n",
    "#### d)\tPingers\n"
   ]
  },
  {
   "cell_type": "code",
   "execution_count": null,
   "id": "67198a10",
   "metadata": {},
   "outputs": [],
   "source": []
  },
  {
   "cell_type": "markdown",
   "id": "38b502d3",
   "metadata": {},
   "source": [
    "### 2)\t………….. are used to receive seismic signals in land surveys (fill in the missing word)\n",
    "\n"
   ]
  },
  {
   "cell_type": "code",
   "execution_count": null,
   "id": "17595a05",
   "metadata": {},
   "outputs": [],
   "source": []
  },
  {
   "cell_type": "markdown",
   "id": "6da4d738",
   "metadata": {},
   "source": [
    "### 3)\tWhat is the best definition of the coherency attribute:\n",
    "#### a)\tIt is a seismic attribute that measures root mean squared amplitude to determine how similar seismic traces are\n",
    "#### b)\tIt is a machine learning method that extracts seismic traces that have similar wavelet shape \n",
    "#### c)\tIt is a seismic attribute that measures the similarity between seismic traces\n",
    "#### d)\tIt is a seismic attribute that measures the discontinuity between seismic traces\n"
   ]
  },
  {
   "cell_type": "code",
   "execution_count": null,
   "id": "e0472464",
   "metadata": {},
   "outputs": [],
   "source": []
  },
  {
   "cell_type": "markdown",
   "id": "9ad130b0",
   "metadata": {},
   "source": [
    "Perhaps one of the best things you can do it 'revise' is to remind yourself of which topics are covered in which lecture so you can look things up if you need to (the exam will be open book)"
   ]
  },
  {
   "cell_type": "code",
   "execution_count": null,
   "id": "258ad26f",
   "metadata": {},
   "outputs": [],
   "source": []
  }
 ],
 "metadata": {
  "kernelspec": {
   "display_name": "Python 3 (ipykernel)",
   "language": "python",
   "name": "python3"
  },
  "language_info": {
   "codemirror_mode": {
    "name": "ipython",
    "version": 3
   },
   "file_extension": ".py",
   "mimetype": "text/x-python",
   "name": "python",
   "nbconvert_exporter": "python",
   "pygments_lexer": "ipython3",
   "version": "3.10.16"
  }
 },
 "nbformat": 4,
 "nbformat_minor": 5
}
